{
 "cells": [
  {
   "cell_type": "markdown",
   "id": "94c9da43-d7e3-44e1-ba5a-879e5d59ebf3",
   "metadata": {},
   "source": [
    "<h1>Data Science Tools and Ecosystem</h1>"
   ]
  },
  {
   "cell_type": "markdown",
   "id": "1482c2c4-d338-4b2e-89dc-a2c24639d320",
   "metadata": {},
   "source": [
    "<h1>In this notebook, Data Science Tools and Ecosystem are summarized.</h1>"
   ]
  },
  {
   "cell_type": "markdown",
   "id": "5309deac-a577-4ff4-9a5e-ae5a12e585f0",
   "metadata": {},
   "source": [
    "<h1>Some of the popular languages that Data Scientists use are:</h1>\n",
    "\n",
    "1. Python\n",
    "2. R\n",
    "3. Java\n",
    "4. Julia"
   ]
  },
  {
   "cell_type": "markdown",
   "id": "a17a4d98-3080-4218-bc7d-f16ec019330b",
   "metadata": {},
   "source": [
    "<h1>Some of the commonly used libraries used by Data Scientists include:</h1>\n",
    "\n",
    "1. NumPy\n",
    "2. Keras\n",
    "3. Panadas\n",
    "4. PyTorch"
   ]
  },
  {
   "cell_type": "markdown",
   "id": "bec9cc8b-c16d-4b4c-8275-9ffda4f58903",
   "metadata": {},
   "source": [
    "<h1>Data Science Tools</h1>"
   ]
  },
  {
   "cell_type": "markdown",
   "id": "adcfe0fa-524a-472c-8049-28df63ba5ae2",
   "metadata": {},
   "source": [
    "1. Apache Spark\n",
    "2. Excel\n",
    "3. TensorFlow"
   ]
  },
  {
   "cell_type": "markdown",
   "id": "714128d8-5e18-495d-b27f-462a563847ef",
   "metadata": {},
   "source": [
    "<h3>Below are a few examples of evaluating arithmetic expressions in Python</h3>"
   ]
  },
  {
   "cell_type": "code",
   "execution_count": 2,
   "id": "8ef56a98-9a22-493b-b85f-60840fad6681",
   "metadata": {},
   "outputs": [
    {
     "data": {
      "text/plain": [
       "17"
      ]
     },
     "execution_count": 2,
     "metadata": {},
     "output_type": "execute_result"
    }
   ],
   "source": [
    "# This a simple arithmetic expression to mutiply then add integers\n",
    "(3*4)+5"
   ]
  },
  {
   "cell_type": "code",
   "execution_count": 4,
   "id": "df6c0de5-433d-4cfb-b60f-60f85eba3b4e",
   "metadata": {},
   "outputs": [
    {
     "name": "stdout",
     "output_type": "stream",
     "text": [
      "Hours= 3\n"
     ]
    }
   ],
   "source": [
    "#This will convert 200 minutes to hours by diving by 60\n",
    "min=200\n",
    "h=min//60\n",
    "print(\"Hours=\",h)"
   ]
  },
  {
   "cell_type": "markdown",
   "id": "03ef2c1a-25d3-4729-8c4b-ca67bd6ccade",
   "metadata": {},
   "source": [
    "**Objectives:**\n",
    "- Python\n",
    "- R\n",
    "- Julia\n",
    "- Java "
   ]
  },
  {
   "cell_type": "markdown",
   "id": "6354100b-d475-4919-9e09-c15f7f489f80",
   "metadata": {},
   "source": [
    "<h2>Author</h2>\n",
    "Fatimah Asiri"
   ]
  },
  {
   "cell_type": "code",
   "execution_count": null,
   "id": "2a95ba49-c6ed-4b4c-9b52-7960e8e67834",
   "metadata": {},
   "outputs": [],
   "source": []
  }
 ],
 "metadata": {
  "kernelspec": {
   "display_name": "Python 3 (ipykernel)",
   "language": "python",
   "name": "python3"
  },
  "language_info": {
   "codemirror_mode": {
    "name": "ipython",
    "version": 3
   },
   "file_extension": ".py",
   "mimetype": "text/x-python",
   "name": "python",
   "nbconvert_exporter": "python",
   "pygments_lexer": "ipython3",
   "version": "3.10.7"
  }
 },
 "nbformat": 4,
 "nbformat_minor": 5
}
